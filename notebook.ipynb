# Proyek Analisis Data: Bike Sharing Dataset
- **Nama:** Adam Bagus Habibie Al Rasyid
- **Email:** adam.bagus@lintasarta.co.id
- **ID Dicoding:** habibiealrasyid17
## Menentukan Pertanyaan Bisnis

- Bagaimana pola peminjaman sepeda berdasarkan musim (Spring, Summer, Fall, Winter)?
- Apakah ada pengaruh cuaca terhadap jumlah peminjaman sepeda?
## Import Semua Packages/Library yang Digunakan
```python
import pandas as pd
import matplotlib.pyplot as plt
import seaborn as sns

## Data Wrangling

### 📦 Persiapan

Sebelum memulai proyek ini, pastikan kamu sudah menyiapkan environment kerja seperti Google Colab atau Jupyter Notebook.

Pada proyek ini, kita akan menggunakan dataset *Bike Sharing* yang sudah disediakan dalam bentuk file ZIP (`Bike-sharing-dataset.zip`). Dataset ini berisi informasi tentang peminjaman sepeda harian di Washington, D.C., selama tahun 2011–2012.

Untuk memulai proses analisis, kita akan melakukan **data wrangling**, yaitu:

1. Mengumpulkan data (Gathering)
2. Menilai kualitas data (Assessing)
3. Membersihkan data (Cleaning)

---

### 🗃️ Gathering Data

Dataset yang digunakan berada dalam file ZIP dan perlu diekstrak terlebih dahulu. Setelah itu, kita akan membaca file `day.csv` sebagai data utama.


import zipfile
import os
import pandas as pd

# Upload ZIP file (jika menggunakan Google Colab)
from google.colab import files
uploaded = files.upload()

# Ekstrak isi file
zip_path = "Bike-sharing-dataset.zip"
extract_path = "bike_sharing_dataset"

with zipfile.ZipFile(zip_path, 'r') as zip_ref:
    zip_ref.extractall(extract_path)

# Load dataset day.csv
df = pd.read_csv(os.path.join(extract_path, "day.csv"))
df.head()




##Insight:

Dataset berhasil dimuat dan berisi data peminjaman sepeda harian dari tahun 2011 dan 2012.
# Load data hour.csv
hour_df = pd.read_csv(os.path.join(extract_path, "hour.csv"))
hour_df.head()
##Insight:


Dataset hour.csv memuat data peminjaman sepeda setiap jam.

Sangat berguna untuk analisis lebih granular seperti pola jam sibuk.
### Assessing Data
# Info struktur kolom
df.info()

# Statistik deskriptif
df.describe()

# Cek missing value
df.isnull().sum()

# Cek data duplikat
df.duplicated().sum()

**Insight:**

Tidak terdapat missing value.

Tidak terdapat duplikasi.

Kolom instant tidak diperlukan untuk analisis.

Nilai dalam kolom season dan weathersit masih berupa angka yang perlu dimapping agar lebih mudah dibaca.
# Info struktur data
hour_df.info()

# Statistik deskriptif
hour_df.describe()

# Cek duplikasi & missing value
hour_df.isnull().sum()
hour_df.duplicated().sum()

##Insight:


Tidak ada missing value

Tidak ada duplikasi

Kolom seperti instant bisa dihapus

Kolom hr, season, weathersit perlu dimapping untuk dibaca manusia
### Cleaning Data
# Hapus kolom tidak relevan
df.drop(columns=['instant'], inplace=True)

# Ubah tipe data tanggal
df['dteday'] = pd.to_datetime(df['dteday'])

# Mapping nilai kategori
season_map = {1: 'Spring', 2: 'Summer', 3: 'Fall', 4: 'Winter'}
weather_map = {1: 'Clear', 2: 'Cloudy', 3: 'Light Rain/Snow', 4: 'Heavy Rain/Snow'}

df['season'] = df['season'].map(season_map)
df['weathersit'] = df['weathersit'].map(weather_map)

##**Insight:**

Kolom dteday berhasil dikonversi ke datetime.

Kolom season dan weathersit kini lebih mudah dibaca.

Data sudah siap digunakan untuk proses eksplorasi dan visualisasi.
# Hapus kolom tidak relevan
hour_df.drop(columns=['instant'], inplace=True)

# Konversi tanggal
hour_df['dteday'] = pd.to_datetime(hour_df['dteday'])

# Mapping kategori
season_map = {1: 'Spring', 2: 'Summer', 3: 'Fall', 4: 'Winter'}
weather_map = {1: 'Clear', 2: 'Cloudy', 3: 'Light Rain/Snow', 4: 'Heavy Rain/Snow'}

hour_df['season'] = hour_df['season'].map(season_map)
hour_df['weathersit'] = hour_df['weathersit'].map(weather_map)

##Insight:


Format tanggal dan label kategori sudah dibersihkan

Dataset hour_df sekarang siap digunakan untuk eksplorasi lebih dalam
## Exploratory Data Analysis (EDA)

Pada tahap ini, kita akan melakukan eksplorasi terhadap data yang telah dibersihkan sebelumnya. Tujuan dari EDA adalah untuk menggali insight dan pola tersembunyi dalam data yang dapat menjawab pertanyaan bisnis yang telah ditentukan sebelumnya.

---

### 🎯 Pertanyaan Bisnis

1. Bagaimana pola peminjaman sepeda berdasarkan musim?
2. Apakah cuaca memengaruhi jumlah peminjaman sepeda?
3. Pada jam berapa peminjaman sepeda paling tinggi?
4. Bagaimana perbedaan pola peminjaman antara hari kerja dan hari libur?

---

### 📊 Eksplorasi Data Harian (`day.csv`)

# Ringkasan statistik untuk data harian
df.describe()

**Insight:**

- Dataset terdiri dari 731 baris (2 tahun data harian)
- Rata-rata peminjaman sepeda harian sekitar 4500
- Tidak ada missing value

print(df[['season', 'cnt']].head())
print(df['season'].unique())
print(df['cnt'].isnull().sum())

### Explore Weather Trend
# Load ulang dari awal agar season tidak NaN
import pandas as pd
import matplotlib.pyplot as plt
import seaborn as sns
import os

# Load ulang data dari file CSV
df = pd.read_csv(os.path.join("bike_sharing_dataset", "day.csv"))

# Bersihkan & format ulang
df.drop(columns=['instant'], inplace=True)
df['dteday'] = pd.to_datetime(df['dteday'])

# Mapping kategori numerik ke label string
season_map = {1: 'Spring', 2: 'Summer', 3: 'Fall', 4: 'Winter'}
weather_map = {1: 'Clear', 2: 'Cloudy', 3: 'Light Rain/Snow', 4: 'Heavy Rain/Snow'}

df['season'] = df['season'].map(season_map)
df['weathersit'] = df['weathersit'].map(weather_map)

# Cek isi kolom untuk memastikan berhasil
print(df['season'].unique())
print(df[['season', 'cnt']].head())

plt.figure(figsize=(8,5))
sns.barplot(data=df, x='season', y='cnt', estimator=sum, palette='coolwarm')
plt.title('Total Peminjaman Sepeda per Musim')
plt.xlabel('Musim')
plt.ylabel('Total Peminjaman')
plt.grid(True, axis='y', linestyle='--', alpha=0.5)
plt.show()

**Insight:**

- Musim **Fall** menunjukkan peminjaman tertinggi
- **Spring** paling sedikit, kemungkinan karena kondisi cuaca yang kurang bersahabat

plt.figure(figsize=(8,5))
sns.boxplot(data=df, x='weathersit', y='cnt', hue='weathersit', palette='coolwarm', dodge=False, legend=False)
plt.title('Pengaruh Cuaca terhadap Jumlah Peminjaman')
plt.xlabel('Kondisi Cuaca')
plt.ylabel('Jumlah Peminjaman')
plt.grid(True, axis='y', linestyle='--', alpha=0.5)
plt.show()

### ⏰ Eksplorasi Data Per Jam (`hour.csv`)

# Import library
import pandas as pd
import matplotlib.pyplot as plt
import seaborn as sns
import os

# Load file hour.csv dari folder hasil ekstrak ZIP
df_hour = pd.read_csv(os.path.join("bike_sharing_dataset", "hour.csv"))

# Mapping nama jam agar lebih terbaca
df_hour['hr'] = df_hour['hr'].astype(int)

# Hitung rata-rata peminjaman sepeda per jam
rata_per_jam = df_hour.groupby('hr')['cnt'].mean().sort_values(ascending=False)
print(rata_per_jam.head())

# Visualisasi
plt.figure(figsize=(12,6))
sns.lineplot(data=df_hour, x='hr', y='cnt', estimator='mean', ci=None)
plt.xticks(range(0, 24))
plt.title("Rata-rata Peminjaman Sepeda per Jam")
plt.xlabel("Jam (0-23)")
plt.ylabel("Jumlah Peminjaman Rata-rata")
plt.grid(True, linestyle='--', alpha=0.5)
plt.show()

# Mapping label season dan cuaca
season_map = {1: 'Spring', 2: 'Summer', 3: 'Fall', 4: 'Winter'}
weather_map = {1: 'Clear', 2: 'Cloudy', 3: 'Light Rain/Snow', 4: 'Heavy Rain/Snow'}

df_hour['season'] = df_hour['season'].map(season_map)
df_hour['weathersit'] = df_hour['weathersit'].map(weather_map)

# Visualisasi tren peminjaman berdasarkan jam
plt.figure(figsize=(10,5))
sns.lineplot(data=df_hour, x='hr', y='cnt', estimator='mean', ci=None, marker='o')
plt.title('Rata-rata Peminjaman Sepeda per Jam')
plt.xlabel('Jam')
plt.ylabel('Rata-rata Jumlah Peminjaman')
plt.xticks(range(0, 24))
plt.grid(True)
plt.show()

**Insight:**

- Peminjaman tertinggi terjadi saat jam sibuk (sekitar pukul 7-9 dan 17-19)
- Menunjukkan bahwa sepeda banyak digunakan untuk aktivitas harian seperti berangkat dan pulang kerja

# Perbandingan peminjaman antara hari kerja dan hari libur
plt.figure(figsize=(10,5))
sns.boxplot(data=df_hour, x='workingday', y='cnt')
plt.title('Peminjaman Sepeda pada Hari Kerja vs Hari Libur')
plt.xlabel('Hari Kerja (1 = Ya, 0 = Libur)')
plt.ylabel('Jumlah Peminjaman')
plt.show()

**Insight:**

- Hari kerja memiliki lebih banyak variasi dan jumlah peminjaman lebih tinggi
- Hari libur cenderung stabil dan lebih rendah

---

Dengan melakukan EDA ini, kita memperoleh insight penting yang bisa menjawab pertanyaan bisnis terkait tren musiman, pengaruh cuaca, dan perilaku penggunaan berdasarkan waktu.

## Visualization & Explanatory Analysis

Pada tahap ini, kita akan menjawab dua pertanyaan bisnis yang telah dirumuskan sebelumnya dengan menggunakan **visualisasi data**. Tujuannya adalah untuk membantu menyampaikan hasil analisis secara lebih jelas dan mudah dipahami.

### 🎯 Tujuan
- Menjawab seluruh pertanyaan analisis atau bisnis yang telah ditentukan
- Membuat visualisasi yang dapat menyampaikan insight secara efektif

---

### 🎯 Pertanyaan 1: Bagaimana pola peminjaman sepeda berdasarkan musim?

Untuk menjawab pertanyaan ini, kita akan membuat visualisasi **jumlah peminjaman sepeda berdasarkan musim**. Kita menggunakan bar chart untuk melihat musim mana yang memiliki jumlah peminjaman tertinggi dan terendah.

# Pastikan tanggal sudah datetime
df['dteday'] = pd.to_datetime(df['dteday'])

# Resample ke bulanan
monthly_df = df.resample('M', on='dteday').agg({'cnt': 'sum'}).reset_index()

# Tambahkan label bulan+tahun agar unik
monthly_df['month_label'] = monthly_df['dteday'].dt.strftime('%Y-%B')

# Visualisasi
plt.figure(figsize=(12,6))
plt.plot(monthly_df['month_label'], monthly_df['cnt'], marker='o', linewidth=2.5, color="#72BCD4")
plt.title("Jumlah Peminjaman Sepeda per Bulan", fontsize=16)
plt.xlabel("Bulan")
plt.ylabel("Total Peminjaman")
plt.xticks(rotation=45)
plt.grid(True, linestyle='--', alpha=0.7)
plt.tight_layout()
plt.show()

**Insight:**
- Terlihat peningkatan peminjaman pada pertengahan tahun (sekitar bulan Mei hingga Oktober)
- Penurunan tajam terjadi pada musim dingin (Desember - Februari)

### 2. Bagaimana pengaruh musim terhadap jumlah peminjaman sepeda?

# Reload ulang dataset kalau perlu
df = pd.read_csv("bike_sharing_dataset/day.csv")

# Ubah ke datetime
df['dteday'] = pd.to_datetime(df['dteday'])

# Mapping label baru
season_map = {1: 'Spring', 2: 'Summer', 3: 'Fall', 4: 'Winter'}
df['season'] = df['season'].map(season_map)

plt.figure(figsize=(8,5))
sns.barplot(
    data=df,
    x='season',
    y='cnt',
    estimator=sum,
    order=['Spring', 'Summer', 'Fall', 'Winter'],
    palette='coolwarm'
)
plt.title('Total Peminjaman Sepeda per Musim')
plt.xlabel('Musim')
plt.ylabel('Total Peminjaman')
plt.grid(axis='y', linestyle='--', alpha=0.7)
plt.show()

**Insight:**

- Musim Fall adalah musim dengan peminjaman tertinggi
- Musim Spring adalah yang paling rendah

print(df['weathersit'].unique())

### 3. Apakah cuaca memengaruhi jumlah peminjaman sepeda?

# Reload ulang data HARUS dari awal biar kolom weathersit bisa dipulihkan
import pandas as pd

df = pd.read_csv("bike_sharing_dataset/day.csv")  # atau sesuai path kamu

# Mapping ulang SEKALI SAJA
weather_map = {
    1: 'Clear',
    2: 'Cloudy',
    3: 'Light Rain/Snow',
    4: 'Heavy Rain/Snow'
}

df['weathersit'] = df['weathersit'].map(weather_map)

# Cek hasil
print(df['weathersit'].unique())

import matplotlib.pyplot as plt

weather_labels = ['Clear', 'Cloudy', 'Light Rain/Snow', 'Heavy Rain/Snow']
data_to_plot = [df[df['weathersit'] == w]['cnt'] for w in weather_labels]

plt.figure(figsize=(8,5))
plt.boxplot(data_to_plot, labels=weather_labels, patch_artist=True,
            boxprops=dict(facecolor='#1f77b4', color='black'),
            medianprops=dict(color='white'))
plt.title('Pengaruh Cuaca terhadap Jumlah Peminjaman')
plt.xlabel('Kondisi Cuaca')
plt.ylabel('Jumlah Peminjaman')
plt.grid(axis='y', linestyle='--', alpha=0.7)
plt.show()


**Insight:**

- Cuaca cerah → jumlah peminjaman tertinggi
- Cuaca hujan/salju → penurunan signifikan dalam jumlah peminjaman

### 4. Pada jam berapa peminjaman sepeda paling tinggi? (dari hour.csv)

plt.figure(figsize=(10,5))
sns.lineplot(
    data=df_hour,
    x='hr',
    y='cnt',
    estimator='mean',
    ci=None,
    marker='o',
    color='#72BCD4'
)
plt.title('Rata-rata Peminjaman Sepeda per Jam')
plt.xlabel('Jam')
plt.ylabel('Rata-rata Jumlah Peminjaman')
plt.xticks(range(0, 24))
plt.grid(True, linestyle='--', alpha=0.6)
plt.show()

Insight:


Puncak peminjaman terjadi pada jam 07:00–09:00 dan 17:00–19:00.

Menunjukkan pola jam sibuk saat berangkat dan pulang kerja.
### 5. Perbedaan antara hari kerja dan hari libur?

plt.figure(figsize=(10,5))
sns.boxplot(
    data=df_hour,
    x='workingday',
    y='cnt',
    palette='Set2'
)
plt.title('Peminjaman Sepeda: Hari Kerja vs Hari Libur')
plt.xlabel('Working Day (0 = Libur, 1 = Hari Kerja)')
plt.ylabel('Jumlah Peminjaman')
plt.grid(axis='y', linestyle='--', alpha=0.7)
plt.xticks([0, 1], ['Libur', 'Hari Kerja'])
plt.show()

Insight:


Hari kerja menunjukkan distribusi peminjaman yang lebih variatif.

Jumlah peminjaman cenderung lebih tinggi di hari kerja, terutama saat commuting.
## Analisis Lanjutan (Opsional)
# ========================
# 📊 RFM ANALYSIS (Fixed)
# ========================
import pandas as pd
import matplotlib.pyplot as plt
import seaborn as sns

# Pastikan tanggal sudah bertipe datetime
df['dteday'] = pd.to_datetime(df['dteday'])

# Recency: hari terbaru dalam dataset
recent_date = df['dteday'].max().date()

# Hitung RFM dari df (day.csv) karena tidak ada customer_id
rfm_df = df.groupby('dteday', as_index=False).agg({
    'cnt': 'sum'
}).rename(columns={'cnt': 'total_usage'})

# Tambahkan 'recency' sebagai selisih hari dari hari terbaru
rfm_df['recency'] = rfm_df['dteday'].apply(lambda x: (recent_date - x.date()).days)

# Frequency dan Monetary kita asumsikan dari total_usage (karena tidak ada harga atau ID pengguna)
rfm_df['frequency'] = rfm_df['total_usage']
rfm_df['monetary'] = rfm_df['total_usage']

# Ambil top 5 dari tiap metrik
top_rfm = {
    'Recency (Terdekat)': rfm_df.sort_values(by='recency').head(5),
    'Frequency (Tertinggi)': rfm_df.sort_values(by='frequency', ascending=False).head(5),
    'Monetary (Tertinggi)': rfm_df.sort_values(by='monetary', ascending=False).head(5)
}

# Visualisasi RFM
fig, ax = plt.subplots(nrows=1, ncols=3, figsize=(24,6))

for i, (title, data) in enumerate(top_rfm.items()):
    sns.barplot(data=data, x='dteday', y='total_usage', ax=ax[i], color='#72BCD4')
    ax[i].set_title(title)
    ax[i].set_ylabel('Total Peminjaman')
    ax[i].set_xlabel('Tanggal')
    ax[i].tick_params(axis='x', rotation=45)

plt.suptitle("Analisis RFM Berdasarkan Hari Peminjaman", fontsize=18)
plt.tight_layout()
plt.show()
